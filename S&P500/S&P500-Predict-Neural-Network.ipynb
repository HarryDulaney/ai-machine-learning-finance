{
 "cells": [
  {
   "cell_type": "markdown",
   "metadata": {},
   "source": [
    "# Neural Network Application: Predicting SP500"
   ]
  },
  {
   "cell_type": "raw",
   "metadata": {},
   "source": [
    "In this exercise, you will build a neural network that aims to predict whether the SP500 index will go up or down based on the daily returns in the previous five days. "
   ]
  },
  {
   "cell_type": "markdown",
   "metadata": {},
   "source": [
    "###  We first import python libraries: NumPy and Pandas.\n",
    "\n",
    "\"NumPy is the fundamental package for scientific computing with Python.\"\n",
    "\n",
    "\"Pandas is a fast, powerful, flexible and easy to use open source data analysis and manipulation tool, built on top of the Python programming language.\""
   ]
  },
  {
   "cell_type": "code",
   "execution_count": 25,
   "metadata": {},
   "outputs": [],
   "source": [
    "import numpy as np\n",
    "import pandas as pd"
   ]
  },
  {
   "cell_type": "markdown",
   "metadata": {},
   "source": [
    "### We then import Keras models: \"Sequential\" and \"Dense\".\n",
    "\n",
    "The \"Sequential\" model is a linear stack of layers.\n",
    "\n",
    "The \"Dense\" class use fully connected layers. In a fully connected layer, each neuron receives input from every element of the previous layer."
   ]
  },
  {
   "cell_type": "code",
   "execution_count": 26,
   "metadata": {},
   "outputs": [],
   "source": [
    "from keras.models import Sequential\n",
    "from keras.layers import Dense"
   ]
  },
  {
   "cell_type": "markdown",
   "metadata": {},
   "source": [
    "### Now we import the dataset \"SP500dailyinputdata.csv\". \n",
    "This dataset includes a variable that indicates whether the S&P500 index goes up or down in a given day and the daily returns in the previous 5 days. The sample period is from January 2015 to December 2019. \n",
    "\n",
    "### YOUR TURN\n",
    "To import \"SP500dailyinputdata.csv\", complete the next line by replacing \"?\"."
   ]
  },
  {
   "cell_type": "code",
   "execution_count": 27,
   "metadata": {},
   "outputs": [
    {
     "data": {
      "text/html": [
       "<div>\n",
       "<style scoped>\n",
       "    .dataframe tbody tr th:only-of-type {\n",
       "        vertical-align: middle;\n",
       "    }\n",
       "\n",
       "    .dataframe tbody tr th {\n",
       "        vertical-align: top;\n",
       "    }\n",
       "\n",
       "    .dataframe thead th {\n",
       "        text-align: right;\n",
       "    }\n",
       "</style>\n",
       "<table border=\"1\" class=\"dataframe\">\n",
       "  <thead>\n",
       "    <tr style=\"text-align: right;\">\n",
       "      <th></th>\n",
       "      <th>UpDown</th>\n",
       "      <th>lag1return</th>\n",
       "      <th>lag2return</th>\n",
       "      <th>lag3return</th>\n",
       "      <th>lag4return</th>\n",
       "      <th>lag5return</th>\n",
       "    </tr>\n",
       "  </thead>\n",
       "  <tbody>\n",
       "    <tr>\n",
       "      <th>0</th>\n",
       "      <td>0</td>\n",
       "      <td>-0.008094</td>\n",
       "      <td>-0.008404</td>\n",
       "      <td>0.017888</td>\n",
       "      <td>0.011630</td>\n",
       "      <td>-0.008893</td>\n",
       "    </tr>\n",
       "    <tr>\n",
       "      <th>1</th>\n",
       "      <td>0</td>\n",
       "      <td>-0.002579</td>\n",
       "      <td>-0.008094</td>\n",
       "      <td>-0.008404</td>\n",
       "      <td>0.017888</td>\n",
       "      <td>0.011630</td>\n",
       "    </tr>\n",
       "    <tr>\n",
       "      <th>2</th>\n",
       "      <td>0</td>\n",
       "      <td>-0.005813</td>\n",
       "      <td>-0.002579</td>\n",
       "      <td>-0.008094</td>\n",
       "      <td>-0.008404</td>\n",
       "      <td>0.017888</td>\n",
       "    </tr>\n",
       "    <tr>\n",
       "      <th>3</th>\n",
       "      <td>1</td>\n",
       "      <td>-0.009248</td>\n",
       "      <td>-0.005813</td>\n",
       "      <td>-0.002579</td>\n",
       "      <td>-0.008094</td>\n",
       "      <td>-0.008404</td>\n",
       "    </tr>\n",
       "    <tr>\n",
       "      <th>4</th>\n",
       "      <td>1</td>\n",
       "      <td>0.013424</td>\n",
       "      <td>-0.009248</td>\n",
       "      <td>-0.005813</td>\n",
       "      <td>-0.002579</td>\n",
       "      <td>-0.008094</td>\n",
       "    </tr>\n",
       "  </tbody>\n",
       "</table>\n",
       "</div>"
      ],
      "text/plain": [
       "   UpDown  lag1return  lag2return  lag3return  lag4return  lag5return\n",
       "0       0   -0.008094   -0.008404    0.017888    0.011630   -0.008893\n",
       "1       0   -0.002579   -0.008094   -0.008404    0.017888    0.011630\n",
       "2       0   -0.005813   -0.002579   -0.008094   -0.008404    0.017888\n",
       "3       1   -0.009248   -0.005813   -0.002579   -0.008094   -0.008404\n",
       "4       1    0.013424   -0.009248   -0.005813   -0.002579   -0.008094"
      ]
     },
     "execution_count": 27,
     "metadata": {},
     "output_type": "execute_result"
    }
   ],
   "source": [
    "dataset = pd.read_csv('SP500dailyinputdata.csv')\n",
    "dataset.head(5) #confirm csv read"
   ]
  },
  {
   "cell_type": "markdown",
   "metadata": {},
   "source": [
    "Variable description:\n",
    "\n",
    "UpDown = indicates whether the S&P index goes up or down in day t. (0: down, 1: up)\n",
    "\n",
    "lag1return = the return of the S&P index in t-1.\n",
    "\n",
    "lag2return = the return of the S&P index in t-2.\n",
    "\n",
    "lag3return = the return of the S&P index in t-3.\n",
    "\n",
    "lag4return = the return of the S&P index in t-4.\n",
    "\n",
    "lag5return = the return of the S&P index in t-5.\n"
   ]
  },
  {
   "cell_type": "markdown",
   "metadata": {},
   "source": [
    "### We generate two datasets X and y from the original dataset.  \n",
    "\n",
    "X is the dataset that contains the independent (predictive) variables. \n",
    "\n",
    "y is the dataset that contains the outcome variable \"UpDown\". \n",
    "\n",
    "### YOUR TURN\n",
    "To generate two datasets X and y, complete the next line by replacing \"?\"."
   ]
  },
  {
   "cell_type": "code",
   "execution_count": 28,
   "metadata": {},
   "outputs": [],
   "source": [
    "X = dataset.drop(['UpDown'],axis=1)\n",
    "y = dataset['UpDown']"
   ]
  },
  {
   "cell_type": "markdown",
   "metadata": {},
   "source": [
    "### Now we define the neural network.  "
   ]
  },
  {
   "cell_type": "code",
   "execution_count": 29,
   "metadata": {},
   "outputs": [],
   "source": [
    "model = Sequential()"
   ]
  },
  {
   "cell_type": "markdown",
   "metadata": {},
   "source": [
    "## YOUR TURN"
   ]
  },
  {
   "cell_type": "markdown",
   "metadata": {},
   "source": [
    "To add a layer with 8 neurons to your neural network, complete the next line by replacing \"?\"."
   ]
  },
  {
   "cell_type": "code",
   "execution_count": 30,
   "metadata": {},
   "outputs": [],
   "source": [
    "model.add(Dense(8, input_dim=5, activation='relu'))"
   ]
  },
  {
   "cell_type": "markdown",
   "metadata": {},
   "source": [
    "To add another layer with 6 neurons to your neural network, complete the next line by replacing \"?\"."
   ]
  },
  {
   "cell_type": "code",
   "execution_count": 31,
   "metadata": {},
   "outputs": [],
   "source": [
    "model.add(Dense(6, activation='relu'))"
   ]
  },
  {
   "cell_type": "code",
   "execution_count": 32,
   "metadata": {},
   "outputs": [],
   "source": [
    "model.add(Dense(4, activation='relu'))\n",
    "model.add(Dense(1, activation='sigmoid'))"
   ]
  },
  {
   "cell_type": "code",
   "execution_count": 33,
   "metadata": {},
   "outputs": [],
   "source": [
    "model.compile(loss='binary_crossentropy', optimizer='adam', metrics=['accuracy'])"
   ]
  },
  {
   "cell_type": "markdown",
   "metadata": {},
   "source": [
    "\"input_dim\" is the number of variables in X dataset.\n",
    "\n",
    "Two activation functions used here include  \"ReLu\" and \"sigmoid\". We have learned \"sigmoid\" in our class.  \n",
    "\n",
    "If you are interested in learning \"ReLu\", here is a good website:\n",
    "\n",
    "https://www.kaggle.com/dansbecker/rectified-linear-units-relu-in-deep-learning\n",
    "\n",
    "(\"ReLu\" is not required by this class). \n",
    "\n",
    "A sigmoid works well for a classifier. ReLu is less computationally expensive than sigmoid because it involves simpler mathematical operations.\n",
    "\n",
    "The loss function is \"binary_crossentropy\".  The optimizer is \"Adam\"."
   ]
  },
  {
   "cell_type": "markdown",
   "metadata": {},
   "source": [
    "### Fit the neural network model on the dataset"
   ]
  },
  {
   "cell_type": "code",
   "execution_count": 34,
   "metadata": {},
   "outputs": [
    {
     "data": {
      "text/plain": [
       "<keras.callbacks.callbacks.History at 0x2891ef10d08>"
      ]
     },
     "execution_count": 34,
     "metadata": {},
     "output_type": "execute_result"
    }
   ],
   "source": [
    "model.fit(X, y, epochs=150, verbose=0)"
   ]
  },
  {
   "cell_type": "markdown",
   "metadata": {},
   "source": [
    "epochs: Number of epochs to train the model. An epoch is an iteration over the entire x and y data provided.\n",
    "\n",
    "verbose: display option. 0 = silent, 1 = progress bar, 2 = one line per epoch."
   ]
  },
  {
   "cell_type": "markdown",
   "metadata": {},
   "source": [
    "### Evaluate the neural network model"
   ]
  },
  {
   "cell_type": "code",
   "execution_count": 35,
   "metadata": {},
   "outputs": [
    {
     "name": "stdout",
     "output_type": "stream",
     "text": [
      "1251/1251 [==============================] - 0s 48us/step\n"
     ]
    }
   ],
   "source": [
    "loss, accuracy = model.evaluate(X, y)"
   ]
  },
  {
   "cell_type": "code",
   "execution_count": 36,
   "metadata": {},
   "outputs": [
    {
     "name": "stdout",
     "output_type": "stream",
     "text": [
      "0.5379696488380432\n"
     ]
    }
   ],
   "source": [
    "print(accuracy)"
   ]
  },
  {
   "cell_type": "markdown",
   "metadata": {},
   "source": [
    "### YOUR TURN\n",
    "Just double click the text below and you will be able to fill in the blanks. "
   ]
  },
  {
   "cell_type": "markdown",
   "metadata": {},
   "source": [
    "The accuracy of the predictions is __0.537969__ .  This means that __53.7969__ % of cases are predicted correctly. "
   ]
  },
  {
   "cell_type": "markdown",
   "metadata": {},
   "source": [
    "Is market efficient? (you don't have to answer it here. Just give some thoughts...). \n",
    "\n",
    "Ans-> I think that, yes, the market is mostly effiecient because much of the available information on securities is already priced in. The outcome of our neural network learning model does support this because the result was predicted correctly only 50% of the time. Meaning we might as well just flip a coin. Mainly, The model shows that historic prices are a poor predictor of future performance. But in terms of market effieciency, I think we would have to incorporate more varibles like investor sentiment, and expectations for future dividend yield and expected financal activities of institutional investors before we can make a connection between the model and the efficiency of the market."
   ]
  },
  {
   "cell_type": "markdown",
   "metadata": {},
   "source": [
    "Is market efficient? (you don't have to answer it here. Just give some thoughts...). \n",
    "\n",
    "Ans-> I think that, yes, the market is effiecient because all much of the available information on securities is already priced into the market. The outcome of our neural network learning model supports this because the it shows that historic price flucuations is a poor predictor of future performance. "
   ]
  },
  {
   "cell_type": "markdown",
   "metadata": {},
   "source": [
    "### Congratulations! Now you have successfully built a neural network model!"
   ]
  }
 ],
 "metadata": {
  "kernelspec": {
   "display_name": "Python 3",
   "language": "python",
   "name": "python3"
  },
  "language_info": {
   "codemirror_mode": {
    "name": "ipython",
    "version": 3
   },
   "file_extension": ".py",
   "mimetype": "text/x-python",
   "name": "python",
   "nbconvert_exporter": "python",
   "pygments_lexer": "ipython3",
   "version": "3.7.4"
  }
 },
 "nbformat": 4,
 "nbformat_minor": 4
}
