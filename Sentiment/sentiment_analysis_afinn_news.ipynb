{
 "nbformat": 4,
 "nbformat_minor": 0,
 "metadata": {
  "kernelspec": {
   "name": "python3",
   "display_name": "Python 3"
  },
  "language_info": {
   "codemirror_mode": {
    "name": "ipython",
    "version": 3
   },
   "file_extension": ".py",
   "mimetype": "text/x-python",
   "name": "python",
   "nbconvert_exporter": "python",
   "pygments_lexer": "ipython3",
   "version": "3.7.4"
  },
  "colab": {
   "name": "sentiment analysis_afinn_news.ipynb",
   "provenance": [],
   "collapsed_sections": []
  },
  "accelerator": "GPU",
  "pycharm": {
   "stem_cell": {
    "cell_type": "raw",
    "source": [],
    "metadata": {
     "collapsed": false
    }
   }
  }
 },
 "cells": [
  {
   "cell_type": "code",
   "metadata": {
    "id": "0mMWhw8unZIr",
    "colab_type": "code",
    "colab": {}
   },
   "source": [
    "!pip install afinn"
   ],
   "execution_count": 0,
   "outputs": []
  },
  {
   "cell_type": "code",
   "metadata": {
    "id": "ihQmA_5tnGV9",
    "colab_type": "code",
    "colab": {}
   },
   "source": [
    "from afinn import Afinn"
   ],
   "execution_count": 0,
   "outputs": []
  },
  {
   "cell_type": "code",
   "metadata": {
    "id": "Lyq6R0KlnGWC",
    "colab_type": "code",
    "colab": {}
   },
   "source": [
    "afinn = Afinn(language='en')"
   ],
   "execution_count": 0,
   "outputs": []
  },
  {
   "cell_type": "code",
   "metadata": {
    "id": "qicOwD09nGWO",
    "colab_type": "code",
    "colab": {}
   },
   "source": [
    "import pandas as pd"
   ],
   "execution_count": 0,
   "outputs": []
  },
  {
   "cell_type": "code",
   "metadata": {
    "colab_type": "code",
    "id": "F3P0vOsCo5Xo",
    "colab": {}
   },
   "source": [
    "from google.colab import drive \n",
    "drive.mount('/content/drive')"
   ],
   "execution_count": 0,
   "outputs": []
  },
  {
   "cell_type": "code",
   "metadata": {
    "id": "1jG7EZ6onGWg",
    "colab_type": "code",
    "colab": {}
   },
   "source": [
    "dataset = pd.read_csv(\"/content/drive/My Drive/FI4092/RedditNews.csv\")"
   ],
   "execution_count": 0,
   "outputs": []
  },
  {
   "cell_type": "markdown",
   "metadata": {
    "id": "HmUGa5Ls5tjw",
    "colab_type": "text"
   },
   "source": [
    "RedditNews.csv: Historical news headlines from Reddit WorldNews Channel. The news headlines are ranked by reddit users' votes, and only the top 25 headlines are included for a single date. (Period: 2008-06-08 to 2016-07-01)\n"
   ]
  },
  {
   "cell_type": "code",
   "metadata": {
    "id": "_DE-TeMNp8xR",
    "colab_type": "code",
    "colab": {}
   },
   "source": [
    "dataset.head()"
   ],
   "execution_count": 0,
   "outputs": []
  },
  {
   "cell_type": "markdown",
   "metadata": {
    "id": "wGVDExYl6k_u",
    "colab_type": "text"
   },
   "source": [
    "Generate a sentiment score for each news headline and store the scores in a new column \"afinn_score\"."
   ]
  },
  {
   "cell_type": "code",
   "metadata": {
    "id": "vWPMi4U_nGWj",
    "colab_type": "code",
    "colab": {}
   },
   "source": [
    "dataset['afinn_score'] = dataset['News'].apply(afinn.score)"
   ],
   "execution_count": 0,
   "outputs": []
  },
  {
   "cell_type": "code",
   "metadata": {
    "id": "Ifr4xSpV79IR",
    "colab_type": "code",
    "colab": {}
   },
   "source": [
    "dataset.head()"
   ],
   "execution_count": 0,
   "outputs": []
  },
  {
   "cell_type": "markdown",
   "metadata": {
    "id": "g8vqdmsQ7Dra",
    "colab_type": "text"
   },
   "source": [
    "Define a function \"word_count\" to calculate the number of words in a text.\n",
    "\n",
    "len() is a built-in function in python. It returns the number of words in the text.\n",
    "split() split the text to single words.\n"
   ]
  },
  {
   "cell_type": "code",
   "metadata": {
    "colab_type": "code",
    "id": "lyyhhADo7O_k",
    "colab": {}
   },
   "source": [
    "def word_count(text):\n",
    "    return len(text.split())"
   ],
   "execution_count": 0,
   "outputs": []
  },
  {
   "cell_type": "markdown",
   "metadata": {
    "id": "KJTNCMAT8s5X",
    "colab_type": "text"
   },
   "source": [
    "Use word_count to count the number of words in the text \"Stocks Rally to Close Second Week of Gains.\""
   ]
  },
  {
   "cell_type": "code",
   "metadata": {
    "id": "mYaD8ZEEnGWq",
    "colab_type": "code",
    "colab": {
     "base_uri": "https://localhost:8080/",
     "height": 34
    },
    "outputId": "e00a5343-5a67-40b8-c3f3-afdbd81e8c1e"
   },
   "source": [
    "word_count('Stocks Rally to Close Second Week of Gains.')"
   ],
   "execution_count": 11,
   "outputs": [
    {
     "output_type": "execute_result",
     "data": {
      "text/plain": [
       "8"
      ]
     },
     "metadata": {
      "tags": []
     },
     "execution_count": 11
    }
   ]
  },
  {
   "cell_type": "markdown",
   "metadata": {
    "id": "ZcUP-O-k82Uk",
    "colab_type": "text"
   },
   "source": [
    "Count the number of words in each headline news and store the number in a new column named \"word_count\""
   ]
  },
  {
   "cell_type": "code",
   "metadata": {
    "id": "4cBcmykgnGWt",
    "colab_type": "code",
    "colab": {}
   },
   "source": [
    "dataset['word_count'] = dataset['News'].apply(word_count)"
   ],
   "execution_count": 0,
   "outputs": []
  },
  {
   "cell_type": "code",
   "metadata": {
    "id": "WdLZZ0ru9Anc",
    "colab_type": "code",
    "colab": {}
   },
   "source": [
    "dataset.head()"
   ],
   "execution_count": 0,
   "outputs": []
  },
  {
   "cell_type": "markdown",
   "metadata": {
    "id": "COLFW8Ay9BsQ",
    "colab_type": "text"
   },
   "source": [
    "Generate an adjusted sentiment score by diving the orignial sentiment score by the number of words in the news headline"
   ]
  },
  {
   "cell_type": "code",
   "metadata": {
    "id": "i1y-XLjUnGWu",
    "colab_type": "code",
    "colab": {}
   },
   "source": [
    "dataset['afinn_adjusted'] = dataset['afinn_score']/dataset['word_count'] * 100"
   ],
   "execution_count": 0,
   "outputs": []
  },
  {
   "cell_type": "code",
   "metadata": {
    "id": "tL2RlfManGWx",
    "colab_type": "code",
    "colab": {}
   },
   "source": [
    "dataset.head()"
   ],
   "execution_count": 0,
   "outputs": []
  },
  {
   "cell_type": "markdown",
   "metadata": {
    "id": "Kvj3MYatDQvp",
    "colab_type": "text"
   },
   "source": []
  }
 ]
}