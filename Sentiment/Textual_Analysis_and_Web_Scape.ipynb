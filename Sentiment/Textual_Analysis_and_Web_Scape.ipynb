{
 "nbformat": 4,
 "nbformat_minor": 0,
 "metadata": {
  "kernelspec": {
   "display_name": "Python 3",
   "language": "python",
   "name": "python3"
  },
  "language_info": {
   "codemirror_mode": {
    "name": "ipython",
    "version": 3
   },
   "file_extension": ".py",
   "mimetype": "text/x-python",
   "name": "python",
   "nbconvert_exporter": "python",
   "pygments_lexer": "ipython3",
   "version": "3.7.4"
  },
  "colab": {
   "name": "Textual Analysis and Web Scrapping of a 10k Filing.ipynb",
   "provenance": [],
   "collapsed_sections": []
  },
  "pycharm": {
   "stem_cell": {
    "cell_type": "raw",
    "source": [],
    "metadata": {
     "collapsed": false
    }
   }
  }
 },
 "cells": [
  {
   "cell_type": "markdown",
   "metadata": {
    "id": "yeEtkHRFLJ7Q",
    "colab_type": "text"
   },
   "source": [
    "Import the package \"request\". The requests library is the de facto standard for making HTTP requests in Python."
   ]
  },
  {
   "cell_type": "code",
   "metadata": {
    "id": "QpYj-tz7Kw76",
    "colab_type": "code",
    "colab": {}
   },
   "source": [
    "import requests"
   ],
   "execution_count": 0,
   "outputs": []
  },
  {
   "cell_type": "markdown",
   "metadata": {
    "id": "PnwbXvwfNyH7",
    "colab_type": "text"
   },
   "source": [
    "Get the content from the web address listed and store the content in \"gilead_sciences_10k\".\n",
    "\n"
   ]
  },
  {
   "cell_type": "markdown",
   "metadata": {
    "id": "QTSXb6ImQozW",
    "colab_type": "text"
   },
   "source": [
    "#Use requests to make http request to the sec.gov EDGAR records system"
   ]
  },
  {
   "cell_type": "code",
   "metadata": {
    "id": "J5wJA13YNKlu",
    "colab_type": "code",
    "colab": {}
   },
   "source": [
    "gilead_sciences_10k=requests.get('https://www.sec.gov/Archives/edgar/data/882095/000088209520000006/0000882095-20-000006.txt').text"
   ],
   "execution_count": 0,
   "outputs": []
  },
  {
   "cell_type": "markdown",
   "metadata": {
    "id": "zex9Oir4MfY1",
    "colab_type": "text"
   },
   "source": [
    "Here we define a list of words that are associated with \"uncertainty\". These words are taken from Loughran and McDonald (2011) financial sentiment dictionary. This dictionary provides the list of words in six categories (negative, positive, uncertainty, litigious, strong modal, and weak modal).  Specifically, there are 297 words that are associted with uncertainty. (https://sraf.nd.edu/textual-analysis/resources/#LM%20Sentiment%20Word%20Lists). "
   ]
  },
  {
   "cell_type": "code",
   "metadata": {
    "id": "RKwG6M9msUsH",
    "colab_type": "code",
    "colab": {}
   },
   "source": [
    "uncertain_words = ['depend', 'fluctuate', 'likelihood', 'possible', 'risk', 'uncertain','ambiguous','precautionary','rumors','seldom','volatile']"
   ],
   "execution_count": 0,
   "outputs": []
  },
  {
   "cell_type": "markdown",
   "metadata": {
    "id": "xxiKXxApRouE",
    "colab_type": "text"
   },
   "source": [
    "count() function in an inbuilt function in python programming language that returns the number of occurrences of a word in the given text."
   ]
  },
  {
   "cell_type": "code",
   "metadata": {
    "id": "pLFcblH1sUsK",
    "colab_type": "code",
    "colab": {}
   },
   "source": [
    "uncertain_sentiment = {}"
   ],
   "execution_count": 0,
   "outputs": []
  },
  {
   "cell_type": "markdown",
   "metadata": {
    "id": "ggjwKaDcecXy",
    "colab_type": "text"
   },
   "source": [
    "We split the text stored in \"gilead_sciences_10k\" into words and store these words in \"\". "
   ]
  },
  {
   "cell_type": "code",
   "metadata": {
    "id": "oOrG9WZNsUsP",
    "colab_type": "code",
    "colab": {}
   },
   "source": [
    "readable_gil_sci_10k=gilead_sciences_10k.split()"
   ],
   "execution_count": 0,
   "outputs": []
  },
  {
   "cell_type": "markdown",
   "metadata": {
    "id": "NYlzfNo8fXHg",
    "colab_type": "text"
   },
   "source": [
    "For each word in \"uncertain_words\"- the list of words that are associated with uncertainty, count the number of occurrences of this word in \"readable_gil_sci_10k\"."
   ]
  },
  {
   "cell_type": "code",
   "metadata": {
    "id": "aOXcUXS_sUsR",
    "colab_type": "code",
    "colab": {}
   },
   "source": [
    "for word in uncertain_words:\n",
    "        uncertain_sentiment[word] = readable_gil_sci_10k.count(word)"
   ],
   "execution_count": 0,
   "outputs": []
  },
  {
   "cell_type": "markdown",
   "metadata": {
    "id": "Mwm_gjoBgoco",
    "colab_type": "text"
   },
   "source": [
    "Print the number of occurrences of each word in \"uncertain_words\" - the list of words that are associated with uncertainty. "
   ]
  },
  {
   "cell_type": "code",
   "metadata": {
    "id": "kylp8p2wsUsT",
    "colab_type": "code",
    "colab": {
     "base_uri": "https://localhost:8080/",
     "height": 34
    },
    "outputId": "f2e9b40c-bd1b-4889-f487-ff9aed22811d"
   },
   "source": [
    "print(uncertain_sentiment)"
   ],
   "execution_count": 7,
   "outputs": [
    {
     "output_type": "stream",
     "text": [
      "{'depend': 7, 'fluctuate': 3, 'likelihood': 17, 'possible': 26, 'risk': 24, 'uncertain': 6}\n"
     ],
     "name": "stdout"
    }
   ]
  },
  {
   "cell_type": "markdown",
   "metadata": {
    "id": "V8ZWRrhJDegL",
    "colab_type": "text"
   },
   "source": []
  }
 ]
}